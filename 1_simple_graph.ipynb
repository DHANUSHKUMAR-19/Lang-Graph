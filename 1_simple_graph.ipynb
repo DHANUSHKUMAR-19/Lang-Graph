{
 "cells": [
  {
   "cell_type": "code",
   "id": "initial_id",
   "metadata": {
    "collapsed": true,
    "ExecuteTime": {
     "end_time": "2025-08-04T16:25:16.657987Z",
     "start_time": "2025-08-04T16:25:16.654250Z"
    }
   },
   "source": "from typing import TypedDict",
   "outputs": [],
   "execution_count": 1
  },
  {
   "metadata": {
    "ExecuteTime": {
     "end_time": "2025-08-04T16:27:40.383036Z",
     "start_time": "2025-08-04T16:27:40.380229Z"
    }
   },
   "cell_type": "code",
   "source": [
    "class PortfolioState(TypedDict):\n",
    "    amount_usd:float\n",
    "    total_usd:float\n",
    "    total_inr:float"
   ],
   "id": "df48e202a2f7de",
   "outputs": [],
   "execution_count": 4
  },
  {
   "metadata": {
    "ExecuteTime": {
     "end_time": "2025-08-04T16:35:26.118041Z",
     "start_time": "2025-08-04T16:35:26.114874Z"
    }
   },
   "cell_type": "code",
   "source": [
    "my_obj: PortfolioState={\n",
    "    \"amount_usd\": 100,\n",
    "    \"total_usd\": 100,\n",
    "    \"total_inr\": 34,\n",
    "}"
   ],
   "id": "9d7ffc921e0c8914",
   "outputs": [],
   "execution_count": 6
  },
  {
   "metadata": {
    "ExecuteTime": {
     "end_time": "2025-08-04T16:47:46.023214Z",
     "start_time": "2025-08-04T16:47:46.020648Z"
    }
   },
   "cell_type": "code",
   "source": [
    "def cal_total(state: PortfolioState)->PortfolioState:\n",
    "    state['total_usd'] = state['amount_usd'] * 1.08\n",
    "    return state"
   ],
   "id": "b14348183fe69b5a",
   "outputs": [],
   "execution_count": 16
  },
  {
   "metadata": {
    "ExecuteTime": {
     "end_time": "2025-08-04T16:47:46.432387Z",
     "start_time": "2025-08-04T16:47:46.429172Z"
    }
   },
   "cell_type": "code",
   "source": [
    "def convert_inr(state: PortfolioState)->PortfolioState:\n",
    "    state['total_inr'] = state['total_usd'] * 85\n",
    "    return state"
   ],
   "id": "d981a08238915892",
   "outputs": [],
   "execution_count": 17
  },
  {
   "metadata": {
    "ExecuteTime": {
     "end_time": "2025-08-04T16:47:46.930838Z",
     "start_time": "2025-08-04T16:47:46.927246Z"
    }
   },
   "cell_type": "code",
   "source": [
    "from langgraph.graph import StateGraph,START,END\n",
    "builder=StateGraph(PortfolioState)\n",
    "builder.add_node(\"Calc_total_node\",cal_total)\n",
    "builder.add_node(\"Convert_inr_node\",convert_inr)\n",
    "\n",
    "builder.add_edge(START,\"Calc_total_node\")\n",
    "builder.add_edge(\"Calc_total_node\",\"Convert_inr_node\")\n",
    "builder.add_edge(\"Convert_inr_node\",END)\n",
    "graph=builder.compile()"
   ],
   "id": "1ded2ed35b2f533",
   "outputs": [],
   "execution_count": 18
  },
  {
   "metadata": {
    "ExecuteTime": {
     "end_time": "2025-08-04T16:47:48.692822Z",
     "start_time": "2025-08-04T16:47:47.913962Z"
    }
   },
   "cell_type": "code",
   "source": [
    "from IPython.display import display, Image\n",
    "display(Image(graph.get_graph().draw_mermaid_png()))"
   ],
   "id": "9b9166e40f0e3ac8",
   "outputs": [
    {
     "data": {
      "image/png": "[encoded data removed]",
      "text/plain": [
       "<IPython.core.display.Image object>"
      ]
     },
     "metadata": {},
     "output_type": "display_data"
    }
   ],
   "execution_count": 19
  },
  {
   "metadata": {
    "ExecuteTime": {
     "end_time": "2025-08-04T16:47:49.548789Z",
     "start_time": "2025-08-04T16:47:49.543877Z"
    }
   },
   "cell_type": "code",
   "source": "graph.invoke({\"amount_usd\":1000})",
   "id": "df164defc15e03f0",
   "outputs": [
    {
     "data": {
      "text/plain": [
       "{'amount_usd': 1000, 'total_usd': 1080.0, 'total_inr': 91800.0}"
      ]
     },
     "execution_count": 20,
     "metadata": {},
     "output_type": "execute_result"
    }
   ],
   "execution_count": 20
  },
  {
   "metadata": {},
   "cell_type": "code",
   "outputs": [],
   "execution_count": null,
   "source": "",
   "id": "d8b3185da548b725"
  }
 ],
 "metadata": {
  "kernelspec": {
   "display_name": "Python 3",
   "language": "python",
   "name": "python3"
  },
  "language_info": {
   "codemirror_mode": {
    "name": "ipython",
    "version": 2
   },
   "file_extension": ".py",
   "mimetype": "text/x-python",
   "name": "python",
   "nbconvert_exporter": "python",
   "pygments_lexer": "ipython2",
   "version": "2.7.6"
  }
 },
 "nbformat": 4,
 "nbformat_minor": 5
}
