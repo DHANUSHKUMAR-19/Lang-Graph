{
 "cells": [
  {
   "cell_type": "code",
   "id": "initial_id",
   "metadata": {
    "collapsed": true,
    "ExecuteTime": {
     "end_time": "2025-08-04T16:54:19.750273Z",
     "start_time": "2025-08-04T16:54:19.745847Z"
    }
   },
   "source": "from typing import TypedDict, Literal",
   "outputs": [],
   "execution_count": 1
  },
  {
   "metadata": {
    "ExecuteTime": {
     "end_time": "2025-08-04T16:56:39.384161Z",
     "start_time": "2025-08-04T16:56:39.380501Z"
    }
   },
   "cell_type": "code",
   "source": [
    "class PortfolioState(TypedDict):\n",
    "    amount_usd:float\n",
    "    total_usd:float\n",
    "    total:float\n",
    "    target_currency: Literal[\"INR\", \"EUR\",]"
   ],
   "id": "f76793252c5299e0",
   "outputs": [],
   "execution_count": 2
  },
  {
   "metadata": {
    "ExecuteTime": {
     "end_time": "2025-08-04T16:56:55.923287Z",
     "start_time": "2025-08-04T16:56:55.920231Z"
    }
   },
   "cell_type": "code",
   "source": [
    "def cal_total(state: PortfolioState)->PortfolioState:\n",
    "    state['total_usd'] = state['amount_usd'] * 1.08\n",
    "    return state"
   ],
   "id": "e5022c006038c564",
   "outputs": [],
   "execution_count": 3
  },
  {
   "metadata": {
    "ExecuteTime": {
     "end_time": "2025-08-04T16:57:21.571932Z",
     "start_time": "2025-08-04T16:57:21.566876Z"
    }
   },
   "cell_type": "code",
   "source": [
    "def convert_inr(state: PortfolioState)->PortfolioState:\n",
    "    state['total'] = state['total_usd'] * 85\n",
    "    return state"
   ],
   "id": "55df99efe789714a",
   "outputs": [],
   "execution_count": 4
  },
  {
   "metadata": {
    "ExecuteTime": {
     "end_time": "2025-08-04T17:55:09.796134Z",
     "start_time": "2025-08-04T17:55:09.792564Z"
    }
   },
   "cell_type": "code",
   "source": [
    "def convert_eur(state: PortfolioState)->PortfolioState:\n",
    "    state['total'] = state['total_usd'] * 0.9\n",
    "    return state"
   ],
   "id": "a9e1f1dcd7ed5799",
   "outputs": [],
   "execution_count": 20
  },
  {
   "metadata": {
    "ExecuteTime": {
     "end_time": "2025-08-04T17:55:11.304755Z",
     "start_time": "2025-08-04T17:55:11.300508Z"
    }
   },
   "cell_type": "code",
   "source": [
    "def choose_conversion(state: PortfolioState)->str:\n",
    "    return state['target_currency']"
   ],
   "id": "e8193b80f2d1d6b6",
   "outputs": [],
   "execution_count": 21
  },
  {
   "metadata": {
    "ExecuteTime": {
     "end_time": "2025-08-04T17:55:11.660514Z",
     "start_time": "2025-08-04T17:55:11.652653Z"
    }
   },
   "cell_type": "code",
   "source": [
    "from langgraph.graph import StateGraph,START,END\n",
    "builder=StateGraph(PortfolioState)\n",
    "builder.add_node(\"Calc_total_node\",cal_total)\n",
    "builder.add_node(\"Convert_inr_node\",convert_inr)\n",
    "builder.add_node(\"Convert_eur_node\",convert_eur)\n",
    "\n",
    "builder.add_edge(START,\"Calc_total_node\")\n",
    "builder.add_conditional_edges(\n",
    "    \"Calc_total_node\",choose_conversion,\n",
    "    {\n",
    "    \"INR\":\"Convert_inr_node\",\n",
    "    \"EUR\":\"Convert_eur_node\"\n",
    "})\n",
    "builder.add_edge(['Convert_inr_node','Convert_eur_node'],END)\n",
    "graph=builder.compile()"
   ],
   "id": "98c57c01b1cc9c8d",
   "outputs": [],
   "execution_count": 22
  },
  {
   "metadata": {
    "ExecuteTime": {
     "end_time": "2025-08-04T17:55:14.029265Z",
     "start_time": "2025-08-04T17:55:13.236450Z"
    }
   },
   "cell_type": "code",
   "source": [
    "from IPython.display import display, Image\n",
    "display(Image(graph.get_graph().draw_mermaid_png()))"
   ],
   "id": "b669e5c1e19133a9",
   "outputs": [
    {
     "data": {
      "image/png": "[encoded data removed]",
      "text/plain": [
       "<IPython.core.display.Image object>"
      ]
     },
     "metadata": {},
     "output_type": "display_data"
    }
   ],
   "execution_count": 23
  },
  {
   "metadata": {
    "ExecuteTime": {
     "end_time": "2025-08-04T17:55:42.139385Z",
     "start_time": "2025-08-04T17:55:42.133200Z"
    }
   },
   "cell_type": "code",
   "source": "graph.invoke({\"amount_usd\":100,\"target_currency\":\"EUR\"})",
   "id": "1a35218f0d1c9398",
   "outputs": [
    {
     "data": {
      "text/plain": [
       "{'amount_usd': 100,\n",
       " 'total_usd': 108.0,\n",
       " 'total': 97.2,\n",
       " 'target_currency': 'EUR'}"
      ]
     },
     "execution_count": 26,
     "metadata": {},
     "output_type": "execute_result"
    }
   ],
   "execution_count": 26
  },
  {
   "metadata": {},
   "cell_type": "code",
   "outputs": [],
   "execution_count": null,
   "source": "",
   "id": "17e78ef66cefacc5"
  }
 ],
 "metadata": {
  "kernelspec": {
   "display_name": "Python 3",
   "language": "python",
   "name": "python3"
  },
  "language_info": {
   "codemirror_mode": {
    "name": "ipython",
    "version": 2
   },
   "file_extension": ".py",
   "mimetype": "text/x-python",
   "name": "python",
   "nbconvert_exporter": "python",
   "pygments_lexer": "ipython2",
   "version": "2.7.6"
  }
 },
 "nbformat": 4,
 "nbformat_minor": 5
}
